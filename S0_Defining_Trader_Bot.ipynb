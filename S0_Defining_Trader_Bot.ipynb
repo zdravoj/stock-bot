{
 "cells": [
  {
   "attachments": {},
   "cell_type": "markdown",
   "metadata": {},
   "source": [
    "# Section 0: Defining the Trader Bot\n",
    "\n",
    "\"The life of money-making is one undertaken under compulsion since wealth is not the good we are seeking and is merely useful for the sake of something else.\" - Aristotle\n",
    "\n",
    "It takes money to make money. So let's make some money!\n",
    "\n",
    "There are many common ways to accomplish this, chief among them being \"working.\" But working, unsurprisingly, takes a lot of work, and it has a tendency to only make you enough money to spend. We want to not only build our wealth, but *keep* our wealth. Prices increase, and the government takes its share (taxes), so we need a way to make more money despite these inevitabilities. Most importantly, since we're avoiding work, we don't want to continue to work to make money. We'd rather it handle itself - our money should grow itself *automatically*.\n",
    "\n",
    "Outside of working, investments are a great strategy to build and keep wealth, and there's no easier way to invest than with the stock market. Businesses grow, and stock prices increase. We want to buy low, and sell high. Of course, it's not quite as simple as that, but it's a good fundamental tenet for our goal. Given the technology available to us, we can build something which automates our buying and selling - a stock trading bot!"
   ]
  },
  {
   "attachments": {},
   "cell_type": "markdown",
   "metadata": {},
   "source": [
    "# Establishing Goals and Scope\n",
    "\n",
    "When we're building a trading bot, what we're really trying to do is *teach the computer how to trade*. We'll need to give our trading bot an objective and scope, so we have a plan when we start building."
   ]
  },
  {
   "attachments": {},
   "cell_type": "markdown",
   "metadata": {},
   "source": [
    "## Purpose\n",
    "\n",
    "The purpose of the Trader Bot is to increase or maintain the purchasing power of its financial capital. More specifically, the real rate of return for the overall portfolio should increase with every additional trading strategy incorporated into the Trader Bot.\n",
    "\n",
    "But what is \"purchasing power\", or the \"real rate of return\"? We'll go deeper into these topics when discussing our metrics of success."
   ]
  },
  {
   "attachments": {},
   "cell_type": "markdown",
   "metadata": {},
   "source": [
    "## Time, Risk, & Return\n",
    "\n",
    "Time, Risk, and Return - the holy trinity of investing. We can invest in low-risk items (like government bonds) but they have small returns, and it takes years for them to mature. Likewise, we can engage in short-term items (like options trading) which can make us a lot of money quickly, but they're extremely risky. The ideal item is low risk, low time, and high return, but these are rare and difficult to identify.\n",
    "\n",
    "A much more reasonable choice is something in the middle - a balance of the three, based on individual preferences.\n",
    "\n",
    "For the purposes of the Trading bot, we'll focus on strategies that:\n",
    "- only trade assets that can be purchased and sold within a quarterly time frame\n",
    "- are risk-averse\n",
    "- have greater returns than our previous best returns\n",
    "\n",
    "Let's get into the reasoning for these choices."
   ]
  },
  {
   "attachments": {},
   "cell_type": "markdown",
   "metadata": {},
   "source": [
    "## Liquidity\n",
    "\n",
    "As mentioned before, there are plenty of ways to grow wealth. We could start a business. We could purchase real estate to rent or resell at a higher price. Warren Buffet, a famous investor, prefers investing in undervalued companies and (sometimes) selling when they become overvalued.\n",
    "\n",
    "For our bot to be useful, it needs to be able to move the funds between assets with minimal friction. We don't want our funds frozen up in an investment, especially if something catastrophic should happen to the market sector of our investment (like owning a house in a housing market crash). We want our investments to have *high liquidity*.\n",
    "\n",
    "So far, the word *investor* has been thrown around pretty loosely. But to \"invest\" in something with a maximum holding time of one quarter isn't really investing.\n",
    "\n",
    "This leads us to what we're actually doing in the stock market - trading. Technically, when we purchase a stock, we purchase a part of a company, but within our scope, we aren't interested in the ownership of a company - only that we can sell its stock for a profit.\n",
    "\n",
    "Here's a more formal definition of what we're building, with respect to liquidity and trading:\n",
    "\n",
    "```\n",
    "By definition, the Trading Bot is a trader, not an investor. The bot can only utilize financial vehicles which allow it to:\n",
    "\n",
    "1. Engage and disengage from the vehicle quickly (a purchase or sell must execute within a maximum of one week, and preferably instantly).\n",
    "2. Restrict its holding time to a maximum of one financial quarter.\n",
    "```\n",
    "\n",
    "So vehicles such as government bonds, real estate, futures contracts, etc. are unacceptable within its scope. To comply with our restrictions, we will focus our automating efforts in stock trading."
   ]
  },
  {
   "attachments": {},
   "cell_type": "markdown",
   "metadata": {},
   "source": [
    "## Restrictions\n",
    "\n",
    "The stock market is a complex adaptive system - a system of billions of people reacting to information, and making purchases or sales based on that information. That information can appear in a variety of forms, including:\n",
    "\n",
    "- Company earnings reports\n",
    "- Legal changes (tariffs, etc.)\n",
    "- Raw goods price change (ex. an increase in steel prices makes construction more expensive)\n",
    "- Federal interest rate changes\n",
    "\n",
    "and many, many more. This makes the stock market a vast, interconnected web, where a slight pull on a single strand can have a ripple effect on the larger market.\n",
    "\n",
    "Essentially, it's impossible to know exactly where a stock price is going to end up at a certain time. We can't be sure of what's going to happen; we can only make educated guesses about stocks based on the information available to us. *Trading or investing of any kind is inherently risky*. For this reason, it's important to set some ground rules for our trading bot to mitigate that risk.\n",
    "\n",
    "First, we never want to open ourselves to the potential of losing more than we invested. Whenever we make a trade, we need to be sure of exactly how much money we could lose. With a stock purchase (expecting the stock price to go up), the worst that could happen is that the value drops to zero while we're holding it. We've lost our entire investment in that stock, but at least we can't lose more than that. With a short trade (expecting the stock price to go down) there's no limit to how high a stock price can go, so there's no limit to how much we can lose. \n",
    "\n",
    "Second, we won't rely on any strategy which requires us to accurately predict the price of a stock to make money. Specifically, options contracts are off the table. The market has its own methods for \"pricing in\" the value of a stock at a later date, and with an options contract, we're betting that we understand the stock *better than the market does*. This is an oversimplification of options, but it illustrates the point - it's too risky, so we won't engage in them.\n",
    "\n",
    "Third, we won't invest in unsecured vehicles - the most common being decentralized finance. This means no cryptocurrency investments. Crypto is a volatile market (much more than the stock market, anyway), and keeping in mind that we want our trades to be automated, we don't want our bot to purchase a promising up-and-comer in the crypto space only for our investment to become the victim of a [rug pull](https://www.nerdwallet.com/article/investing/rug-pull).\n",
    "\n",
    "As a quick recap:\n",
    "1. All potential losses must be capped (No short trades)\n",
    "2. No purchases which require accurate price predictions (No options contracts)\n",
    "3. No unsecured vehicles (No crypto)"
   ]
  },
  {
   "attachments": {},
   "cell_type": "markdown",
   "metadata": {},
   "source": [
    "## Sticking to the Numbers\n",
    "\n",
    "The market is full of financial noise. It is easy to become overwhelmed by conflicting information in analyst blogs and general market sentiment. It is possible to automate a sentiment analysis with NLP and web scraping of popular analyst websites and social media, but there's no need to get mired in such complexity. We will stand by the adage \"the numbers don't lie.\" Stocks move on real-world information, but we can give ourself an advantage if we build our automation only by relying on minimal (if any) information from the outside world, instead, choosing to focus on movement trends in the stocks themselves. We will build our strategies around the numbers.\n",
    "\n",
    "The most promising form of this is trend trading, utilizing indicators such as support and resistance levels to trade into bullish uptrends. There are other strategies which, like trend trading, operate solely on the movements in the stock market and we can test those as well. As long as they adhere to our guiding principles and goal, they can be incorporated into our bot."
   ]
  },
  {
   "attachments": {},
   "cell_type": "markdown",
   "metadata": {},
   "source": [
    "## The Importance of Consistency\n",
    "\n",
    "Since we want our bot to automate our trades, we want our rules of trading to be consistent. We don't want our trading rules to work under specific market circumstances - we want them to work under *all* market circumstances. Though we will often be leveraging probability in our trades (more promising and more numerous indicators indicate a higher probability of a profitable uptrend), we will not be building our bot around profiting from *any particular trade*. Let's expand on this idea.\n",
    "\n",
    "The concept of diversification is often brought up in discussions around investing, and the colloquial definition of this word is to invest money in many different companies across multiple sectors, with the idea that our portfolio will be protected from extensive losses in one stock or sector by \"balancing\" those losses with profit from our other investments.\n",
    "\n",
    "We can extend this definition beyond diversifying our stock choices to diversifying our *trades*, in that we don't expect our bot to be profitable with *every trade*, but instead expect profits across *groups of trades*. In doing so, we reduce our potential returns, but heavily mitigate risk. Losses on individual trades are expected, but as long as the accumulated losses are consistently outweighed by accumulated returns, the strategy is profitable, and therefore effective. Additionally, such a strategy can also be consistently measured against a predefined metric of success."
   ]
  },
  {
   "attachments": {},
   "cell_type": "markdown",
   "metadata": {},
   "source": [
    "# Measuring Success\n",
    "\n",
    "Now that we have a better understanding of the goals and scope of our stock trading bot, we need to define how we measure its success. We must define a consistent set of metrics to measure against each strategy to determine if that strategy is a useful addition to the bot."
   ]
  },
  {
   "attachments": {},
   "cell_type": "markdown",
   "metadata": {},
   "source": [
    "## Real Rate of Return\n",
    "\n",
    "In the \"Purpose\" section, we stated that the goal of the bot was to increase or maintain its *purchasing power* by incorporating trades that increase the *real rate of return*. Let's break down these terms so we can use them in our metrics of success.\n",
    "\n",
    "### Purchasing Power\n",
    "\n",
    "Money becomes less valuable over time because of [inflation](https://www.investopedia.com/terms/i/inflation.asp). Broadly speaking, prices increase over time, and the amount of money required right now to buy, say, a loaf of bread, will not be enough to purchase that same loaf of bread in twenty years. Restated, money loses its purchasing power over time.\n",
    "\n",
    "Purchasing power equations can get needlessly complicated, so we will assume the inflation rate hovers around 3%, meaning that every year, money loses about 3% of its purchasing power. The equation is:\n",
    "\n",
    "$$ V_f = V_c * (1-0.03)^t $$\n",
    "\n",
    "where $V_f$ is the future value, $V_c$ is the current value, and $t$ is time in years.\n",
    "\n",
    "### Real Rate of Return\n",
    "\n",
    "The technical definition of real rate of return only adjusts for inflation. Within our scope of stock trading, we will expand this definition to include both taxes and trading fees.\n",
    "\n",
    "Capital gains taxes are paid on shares of stock in a regular brokerage account. Since our trades will be considered short term (held for less than one year), the tax rates are the same as the individual's income tax bracket. Since this is a variable rate, we'll have to simplify it to have a concrete calculation to work with. For now, we will assume taxes take an even 25% out of our total profits.\n",
    "\n",
    "If we want our strategies to be as robust as possible, we can assume a 1% slippage for trading fees (we need a 1% return just to break even!). However, zero-commission brokerages have emerged with a dominant role in the retail trading market, removing the commission fees for traders on stock trades (they can use your trades to make money in other ways). This is another variable to consider, but we'll assume that our trades are indeed \"zero-commission\" and factor in trading fees as they apply."
   ]
  }
 ],
 "metadata": {
  "kernelspec": {
   "display_name": "venv",
   "language": "python",
   "name": "python3"
  },
  "language_info": {
   "name": "python",
   "version": "3.11.0"
  },
  "orig_nbformat": 4,
  "vscode": {
   "interpreter": {
    "hash": "27771ea68735cac1916c104ed3d69e2cb0eb000f6c9d574c6a08d3bbf1e9acce"
   }
  }
 },
 "nbformat": 4,
 "nbformat_minor": 2
}
