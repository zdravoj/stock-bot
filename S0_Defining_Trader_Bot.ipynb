{
 "cells": [
  {
   "attachments": {},
   "cell_type": "markdown",
   "metadata": {},
   "source": [
    "# Section 0: Defining the Trader Bot\n",
    "\n",
    "\"The life of money-making is one undertaken under compulsion since wealth is not the good we are seeking and is merely useful for the sake of something else.\" - Aristotle\n",
    "\n",
    "It takes money to make money. So let's make some money!\n",
    "\n",
    "There are many common ways to accomplish this, chief among them being \"working.\" But working, unsurprisingly, takes a lot of work, and it has a tendency to only make you enough money to spend. We want to not only build our wealth, but *keep* our wealth. Prices increase, and the government takes its share (taxes), so we need a way to make more money despite these inevitabilities. Most importantly, since we're avoiding work, we don't want to continue to work to make money. We'd rather it handle itself - our money should grow itself *automatically*.\n",
    "\n",
    "Outside of working, investments are a great strategy to build and keep wealth, and there's no easier way to invest than with the stock market. Businesses grow, and stock prices increase. We want to buy low, and sell high. Of course, it's not quite as simple as that, but it's a good fundamental tenet for our goal. Given the technology available to us, we can build something which automates our buying and selling - a stock trading bot!\n",
    "\n",
    "When we're building a trading bot, what we're really trying to do is *teach the computer how to trade*. We'll need to give our trading bot some rules and scope, so we have a plan when we start building."
   ]
  },
  {
   "attachments": {},
   "cell_type": "markdown",
   "metadata": {},
   "source": [
    "## Purpose\n",
    "\n",
    "The purpose of the Trader Bot is to increase or maintain the purchasing power of its financial capital. More specifically, the real rate of return for the overall portfolio should increase with every additional trading strategy incorporated into the Trader Bot.\n",
    "\n",
    "But what is \"purchasing power\", or the \"real rate of return\"? We'll get into that in a moment."
   ]
  },
  {
   "attachments": {},
   "cell_type": "markdown",
   "metadata": {},
   "source": [
    "## Time, Risk, & Return\n",
    "\n",
    "Time, Risk, and Return - the holy trinity of investing. We can invest in low-risk items (like government bonds) but they have small returns, and it takes years for them to mature. Likewise, we can engage in short-term items (like options trading) which can make us a lot of money quickly, but they're extremely risky. The ideal item is low risk, low time, and high return, but these are rare and difficult to identify.\n",
    "\n",
    "A much more reasonable choice is something in the middle - a balance of the three, based on individual preferences.\n",
    "\n",
    "For the purposes of the Trading bot, we'll focus on trades that:\n",
    "- can be purchased and sold within a quarterly time frame\n",
    "- are risk-averse\n",
    "- have greater returns than our previous best returns\n",
    "\n",
    "Let's get into the reasoning for these choices."
   ]
  },
  {
   "attachments": {},
   "cell_type": "markdown",
   "metadata": {},
   "source": [
    "## Liquidity\n",
    "\n",
    "As mentioned before, there are plenty of ways to grow wealth. We could start a business. We could purchase real estate to rent or resell at a higher price. Warren Buffet, a famous investor, prefers investing in undervalued companies and (sometimes) selling when they become overvalued.\n",
    "\n",
    "We're more impatient than that, and more importantly, we don't want our funds frozen up in an investment if something catastrophic should happen to the market sector of our investment (like owning a house in a housing market crash). We want our investments to have *high liquidity*.\n",
    "\n",
    "So far, the word *investor* has been thrown around pretty loosely. But to \"invest\" in something with a maximum holding time of one quarter isn't really investing. We aren't interested in the actual value of the thing that we're holding - we're only interested so far as we can sell it for a profit.\n",
    "\n",
    "This leads us to what we're actually doing in the stock market - trading. Technically, when we purchase a stock, we purchase a part of a company. Again, we don't really have any interest in the actual company - only that we can sell its stock for a profit.\n",
    "\n",
    "Here's a more formal definition of what we're building, with respect to liquidity and trading:\n",
    "\n",
    "By definition, the Trading Bot is a trader, not an investor. The bot can only utilize financial vehicles which allow it to:\n",
    "\n",
    "1. Engage and disengage from the vehicle quickly (a purchase or sell must execute within a maximum of one week, and preferably instantly).\n",
    "2. Restrict its holding time to a maximum of one financial quarter.\n",
    "\n",
    "Vehicles such as government bonds, real estate, futures contracts, etc. are unacceptable within its scope."
   ]
  },
  {
   "attachments": {},
   "cell_type": "markdown",
   "metadata": {},
   "source": [
    "## Sticking to the Numbers\n",
    "\n"
   ]
  },
  {
   "cell_type": "code",
   "execution_count": null,
   "metadata": {},
   "outputs": [],
   "source": []
  }
 ],
 "metadata": {
  "language_info": {
   "name": "python"
  },
  "orig_nbformat": 4
 },
 "nbformat": 4,
 "nbformat_minor": 2
}
