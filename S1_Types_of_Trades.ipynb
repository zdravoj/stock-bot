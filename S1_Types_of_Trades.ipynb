{
 "cells": [
  {
   "cell_type": "markdown",
   "metadata": {},
   "source": [
    "# Section 1: Types of Trades"
   ]
  },
  {
   "cell_type": "markdown",
   "metadata": {},
   "source": [
    "Two types of trades\n",
    "\n",
    "- Time-based: Stock will be purchased at $X$ time and sold at $X+\\Delta$ time.\n",
    "    - The simpler of the two types. Requires interval data. Will be approached probabilistically.\n",
    "    - Can use a variety of models, including regressions & neural networks.\n",
    "- Outcome-based: Sell and stop prices will be set, then stock will be purchased, then stock will be sold only when stock price reaches sell or stop price.\n",
    "    - Requires stock to be monitored at regular intervals. Requires calculating of sell and stop prices based on historical data.\n",
    "    - Requires models which can adjust and recalculate quickly. Likely requires simpler models like linear regressions. Will need to research time-based models also."
   ]
  }
 ],
 "metadata": {
  "language_info": {
   "name": "python"
  },
  "orig_nbformat": 4
 },
 "nbformat": 4,
 "nbformat_minor": 2
}
