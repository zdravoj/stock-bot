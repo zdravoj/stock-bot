{
 "cells": [
  {
   "cell_type": "markdown",
   "metadata": {},
   "source": [
    "# Libraries"
   ]
  },
  {
   "cell_type": "code",
   "execution_count": 2,
   "metadata": {},
   "outputs": [],
   "source": [
    "import yfinance as yf\n",
    "import pandas as pd\n",
    "import numpy as np\n",
    "import matplotlib.pyplot as plt\n",
    "\n",
    "import re\n",
    "\n",
    "\n",
    "from scipy.stats import skewnorm"
   ]
  },
  {
   "cell_type": "markdown",
   "metadata": {},
   "source": [
    "# First Steps\n",
    "\n",
    "1. Get some stock market data\n",
    "2. Save it in csv\n",
    "3. Transform into useable format (keep as price? transform into percent change? per day?)\n",
    "4. Define Neural Network Structure\n",
    "5. Create Neural Network\n"
   ]
  },
  {
   "cell_type": "markdown",
   "metadata": {},
   "source": [
    "Keeping stock prices in their standard format would allow each entry to serve as ground truth, while a percentage change would be a relative system. To find a stock change from day X to day Y would require recursively multiplying all percentage changes from day Y back to day X.\n",
    "\n",
    "Keeping stock prices in percentage change format would help automatically account for stock splits. Adjusted price already accounts for this, but I don't want to use the adjusted price because I don't understand it enough."
   ]
  },
  {
   "cell_type": "markdown",
   "metadata": {},
   "source": [
    "## Get some stock market data"
   ]
  },
  {
   "cell_type": "markdown",
   "metadata": {},
   "source": [
    "I expect the easiest way to do this is with yfinance, though I might look at some other options because yfinance isn't as well maintained as some more professional open source libraries, and it no longer links to a formal yahoo API."
   ]
  },
  {
   "cell_type": "markdown",
   "metadata": {},
   "source": [
    "Polygon.io seems promising, but the free version only has 5 API calls per minute (not sure the extent of data I can grab with a single API call, but it doesn't sound like very much), and I can only access two years of historical data."
   ]
  },
  {
   "cell_type": "markdown",
   "metadata": {},
   "source": [
    "I'll probably stick with yfinance for now. It's the easiest.\n",
    "\n",
    "I've done some work with yfinance and one of the difficulties is that it pulls data into a **multi-index dataframe**. I'll have to **transform it into something tidy**."
   ]
  },
  {
   "cell_type": "markdown",
   "metadata": {},
   "source": [
    "I'm going to start simple and get a dataset from the DJIA (Dow Jones Industrial Average). It represents a significant portion of the market and it's a good starting point without getting too much in the weeds of big stock data with larger indexes like the S&P 500 or the Wilshire 5000."
   ]
  },
  {
   "cell_type": "markdown",
   "metadata": {},
   "source": [
    "Some obstacles to grapple with are:\n",
    "- **how to handle companies which were bankrupted**. If I don't include these, then the dataset will suffer heavily from survivorship bias.\n",
    "- **how to handle companies which were merged**. A merged company doesn't go out of business (and so is probably still a good investment) but **representing the change in stock price from the merge** might be difficult."
   ]
  },
  {
   "cell_type": "markdown",
   "metadata": {},
   "source": [
    "I found a list of all companies ever listed on the DJIA, but it's stored in a Wikipedia article where the changes are grouped as companies listed on the DJIA on a certain date. There is some text about which companies are moved / merged, but I'll have to parse the complete list with some programming."
   ]
  },
  {
   "cell_type": "markdown",
   "metadata": {},
   "source": [
    "There's also the issue of how far to go back for good training data. The DJIA goes back all the way to 1896, but I don't need data back that far for training. Out of convenience, let's have an 80/20 train-test split, where the training set is 40 years, and the testing set is 10 years.\n",
    "\n",
    "I won't pull until today - that seems ridiculous. Let's set the test cutoff to be December 31, 2023. That means the first training observation will be from January 1, 1973. I don't need to pull data from before then, and I don't need to pull companies listed on the DJIA before then."
   ]
  },
  {
   "cell_type": "markdown",
   "metadata": {},
   "source": [
    "### Get company names"
   ]
  },
  {
   "cell_type": "code",
   "execution_count": 2,
   "metadata": {},
   "outputs": [],
   "source": [
    "# DJIA history URL\n",
    "djia_hist_comps = pd.read_html('https://en.wikipedia.org/wiki/Historical_components_of_the_Dow_Jones_Industrial_Average')"
   ]
  },
  {
   "cell_type": "code",
   "execution_count": 3,
   "metadata": {},
   "outputs": [
    {
     "data": {
      "text/html": [
       "<div>\n",
       "<style scoped>\n",
       "    .dataframe tbody tr th:only-of-type {\n",
       "        vertical-align: middle;\n",
       "    }\n",
       "\n",
       "    .dataframe tbody tr th {\n",
       "        vertical-align: top;\n",
       "    }\n",
       "\n",
       "    .dataframe thead th {\n",
       "        text-align: right;\n",
       "    }\n",
       "</style>\n",
       "<table border=\"1\" class=\"dataframe\">\n",
       "  <thead>\n",
       "    <tr style=\"text-align: right;\">\n",
       "      <th></th>\n",
       "      <th>0</th>\n",
       "      <th>1</th>\n",
       "      <th>2</th>\n",
       "    </tr>\n",
       "  </thead>\n",
       "  <tbody>\n",
       "    <tr>\n",
       "      <th>65</th>\n",
       "      <td>Chevron Corporation</td>\n",
       "      <td>Johnson &amp; Johnson</td>\n",
       "      <td>United Technologies Corporation</td>\n",
       "    </tr>\n",
       "    <tr>\n",
       "      <th>27</th>\n",
       "      <td>The Coca-Cola Company</td>\n",
       "      <td>Merck &amp; Co., Inc.</td>\n",
       "      <td>Walgreens Boots Alliance, Inc.</td>\n",
       "    </tr>\n",
       "    <tr>\n",
       "      <th>137</th>\n",
       "      <td>Citigroup Inc.</td>\n",
       "      <td>International Business Machines Corporation</td>\n",
       "      <td>Verizon Communications Inc. ↑</td>\n",
       "    </tr>\n",
       "    <tr>\n",
       "      <th>155</th>\n",
       "      <td>Caterpillar Inc.</td>\n",
       "      <td>Intel Corporation ↑</td>\n",
       "      <td>The Procter &amp; Gamble Company</td>\n",
       "    </tr>\n",
       "    <tr>\n",
       "      <th>179</th>\n",
       "      <td>E.I. du Pont de Nemours &amp; Company</td>\n",
       "      <td>Merck &amp; Co., Inc.</td>\n",
       "      <td>F. W. Woolworth Company</td>\n",
       "    </tr>\n",
       "    <tr>\n",
       "      <th>216</th>\n",
       "      <td>E.I. du Pont de Nemours &amp; Company</td>\n",
       "      <td>International Paper Company</td>\n",
       "      <td>United States Steel Corporation</td>\n",
       "    </tr>\n",
       "    <tr>\n",
       "      <th>3</th>\n",
       "      <td>Apple Inc.</td>\n",
       "      <td>Intel Corporation</td>\n",
       "      <td>The Travelers Companies, Inc.</td>\n",
       "    </tr>\n",
       "    <tr>\n",
       "      <th>99</th>\n",
       "      <td>The Coca-Cola Company</td>\n",
       "      <td>Kraft Foods Inc.</td>\n",
       "      <td>The Walt Disney Company</td>\n",
       "    </tr>\n",
       "  </tbody>\n",
       "</table>\n",
       "</div>"
      ],
      "text/plain": [
       "                                     0  \\\n",
       "65                 Chevron Corporation   \n",
       "27               The Coca-Cola Company   \n",
       "137                     Citigroup Inc.   \n",
       "155                   Caterpillar Inc.   \n",
       "179  E.I. du Pont de Nemours & Company   \n",
       "216  E.I. du Pont de Nemours & Company   \n",
       "3                           Apple Inc.   \n",
       "99               The Coca-Cola Company   \n",
       "\n",
       "                                               1  \\\n",
       "65                             Johnson & Johnson   \n",
       "27                             Merck & Co., Inc.   \n",
       "137  International Business Machines Corporation   \n",
       "155                          Intel Corporation ↑   \n",
       "179                            Merck & Co., Inc.   \n",
       "216                  International Paper Company   \n",
       "3                              Intel Corporation   \n",
       "99                              Kraft Foods Inc.   \n",
       "\n",
       "                                   2  \n",
       "65   United Technologies Corporation  \n",
       "27    Walgreens Boots Alliance, Inc.  \n",
       "137    Verizon Communications Inc. ↑  \n",
       "155     The Procter & Gamble Company  \n",
       "179          F. W. Woolworth Company  \n",
       "216  United States Steel Corporation  \n",
       "3      The Travelers Companies, Inc.  \n",
       "99           The Walt Disney Company  "
      ]
     },
     "metadata": {},
     "output_type": "display_data"
    }
   ],
   "source": [
    "# combine all dataframes\n",
    "djia_hist_comps_30_only = djia_hist_comps[1].iloc[:10, :]\n",
    "for df in djia_hist_comps[2:25]:\n",
    "    djia_hist_comps_30_only = pd.concat(\n",
    "        [djia_hist_comps_30_only, df.iloc[:10, :]],\n",
    "        axis='index',\n",
    "        copy=False,\n",
    "        ignore_index=True\n",
    "    )\n",
    "display(djia_hist_comps_30_only.sample(8))"
   ]
  },
  {
   "cell_type": "code",
   "execution_count": 4,
   "metadata": {},
   "outputs": [],
   "source": [
    "# keeps only company name (removes arrows, subscripts, and extraneous info)\n",
    "def remove_name_clutter(company_name):\n",
    "    return re.sub(r\"(?:\\([^\\(\\)]*\\)|\\[[^\\[\\]]*\\])|[^a-zA-Z0-9\\s&]\", '', company_name)"
   ]
  },
  {
   "cell_type": "code",
   "execution_count": 5,
   "metadata": {},
   "outputs": [],
   "source": [
    "# convert to list of company names\n",
    "djia_hist_comps_30_only = djia_hist_comps_30_only.to_numpy().flatten().tolist()"
   ]
  },
  {
   "cell_type": "code",
   "execution_count": 6,
   "metadata": {},
   "outputs": [],
   "source": [
    "# get only pure company names\n",
    "djia_hist_comps_30_only = [remove_name_clutter(name).strip() for name in djia_hist_comps_30_only]"
   ]
  },
  {
   "cell_type": "code",
   "execution_count": 7,
   "metadata": {},
   "outputs": [],
   "source": [
    "# get distinct company names\n",
    "djia_hist_comps_30_only = set(djia_hist_comps_30_only)"
   ]
  },
  {
   "cell_type": "code",
   "execution_count": 8,
   "metadata": {},
   "outputs": [],
   "source": [
    "# manual removal of explicit duplicates\n",
    "duplicates = [\n",
    "    'UnitedHealth Group Incorporated'\n",
    "]\n",
    "for d in duplicates:\n",
    "    djia_hist_comps_30_only.remove(d)"
   ]
  },
  {
   "cell_type": "code",
   "execution_count": 9,
   "metadata": {},
   "outputs": [
    {
     "data": {
      "text/plain": [
       "['3M Company',\n",
       " 'AT&T Corporation',\n",
       " 'AT&T Inc',\n",
       " 'Alcoa Inc',\n",
       " 'Allied Chemical Corporation',\n",
       " 'AlliedSignal Incorporated',\n",
       " 'Altria Group Incorporated',\n",
       " 'Aluminum Company of America']"
      ]
     },
     "execution_count": 9,
     "metadata": {},
     "output_type": "execute_result"
    }
   ],
   "source": [
    "# convert to list\n",
    "djia_hist_comps_30_only = sorted(list(djia_hist_comps_30_only))\n",
    "djia_hist_comps_30_only[:8]"
   ]
  },
  {
   "cell_type": "markdown",
   "metadata": {},
   "source": [
    "There are a few companies which are probably indistinguishably duplicates (like AT&T Corporation and AT&T Inc) but because of rebranding or mergers, the companies might be listed differently. I'll need to look into this more."
   ]
  },
  {
   "cell_type": "markdown",
   "metadata": {},
   "source": [
    "### Get company tickers"
   ]
  },
  {
   "cell_type": "markdown",
   "metadata": {},
   "source": [
    "I can probably automate some of this, but I expect that I'll have to go through quite a few names in the list manually to find the tickers."
   ]
  },
  {
   "cell_type": "markdown",
   "metadata": {},
   "source": [
    "Nevermind. I've been doing some research on trying to automate this and I'm not having a lot of luck. I'll probably just manually go through the list. It'll probably take me a bit but it's all I have to go on right now, and I'll probably just force myself to find a better solution down the line for when I need to pull more companies."
   ]
  },
  {
   "cell_type": "code",
   "execution_count": 10,
   "metadata": {},
   "outputs": [
    {
     "data": {
      "text/plain": [
       "86"
      ]
     },
     "execution_count": 10,
     "metadata": {},
     "output_type": "execute_result"
    }
   ],
   "source": [
    "len(djia_hist_comps_30_only)"
   ]
  },
  {
   "cell_type": "code",
   "execution_count": 11,
   "metadata": {},
   "outputs": [
    {
     "data": {
      "text/plain": [
       "array(['3M Company', 'AT&T Corporation', 'AT&T Inc', 'Alcoa Inc',\n",
       "       'Allied Chemical Corporation', 'AlliedSignal Incorporated',\n",
       "       'Altria Group Incorporated', 'Aluminum Company of America',\n",
       "       'American Can Company', 'American Express Company',\n",
       "       'American International Group Inc',\n",
       "       'American Telephone and Telegraph Company',\n",
       "       'American Tobacco Company', 'Amgen Inc',\n",
       "       'Anaconda Copper Mining Company', 'Apple Inc',\n",
       "       'Bank of America Corporation', 'Bethlehem Steel Corporation',\n",
       "       'Caterpillar Inc', 'Chevron Corporation', 'Chrysler Corporation',\n",
       "       'Cisco Systems Inc', 'Citigroup Inc', 'Dow Inc', 'DowDuPont Inc',\n",
       "       'EI du Pont de Nemours & Company', 'Eastman Kodak Company',\n",
       "       'Esmark Corporation', 'Exxon Corporation',\n",
       "       'Exxon Mobil Corporation', 'F W Woolworth Company',\n",
       "       'General Electric Company', 'General Foods Corporation',\n",
       "       'General Motors Corporation', 'Goodyear Tire and Rubber Company',\n",
       "       'HewlettPackard Company', 'Honeywell International',\n",
       "       'Honeywell International Inc', 'Inco Limited', 'Intel Corporation',\n",
       "       'International Business Machines Corporation',\n",
       "       'International Harvester Company',\n",
       "       'International Nickel Company Ltd', 'International Paper Company',\n",
       "       'JP Morgan & Company'], dtype='<U43')"
      ]
     },
     "execution_count": 11,
     "metadata": {},
     "output_type": "execute_result"
    }
   ],
   "source": [
    "# view company names (first half of list)\n",
    "np.array(djia_hist_comps_30_only[:45])"
   ]
  },
  {
   "cell_type": "code",
   "execution_count": 12,
   "metadata": {},
   "outputs": [],
   "source": [
    "# company names and tickers\n",
    "djia_tickers = [\n",
    "    ('3M Company', 'MMM'),\n",
    "    ('AT&T Inc', 'T'),\n",
    "    ('Alcoa Inc', 'AA'),\n",
    "    ('Honeywell International', 'HON'),\n",
    "    ('Altria Group Inc', 'MO'),\n",
    "    ('American Express Company', 'AXP'),\n",
    "    ('American International Group Inc', 'AIG'),\n",
    "    ('Amgen Inc', 'AMGN'),\n",
    "    ('Apple Inc', 'AAPL'),\n",
    "    ('Bank of America Corporation', 'BAC'),\n",
    "    ('Caterpillar Inc', 'CAT'),\n",
    "    ('Chevron Corporation', 'CVX'),\n",
    "    ('Cisco Systems Inc', 'CSCO'),\n",
    "    ('Citigroup Inc', 'C'),\n",
    "    ('Dow Inc', 'DOW'),\n",
    "    ('DuPont de Nemours Inc', 'DD'),\n",
    "    ('Eastman Kodak Company', 'KODK'),\n",
    "    ('Exxon Mobil Corporation', 'XOM'),\n",
    "    ('General Electric Company', 'GE'),\n",
    "    ('General Motors Company', 'GM'),\n",
    "    ('Goodyear Tire and Rubber Company', 'GT'),\n",
    "    ('HewlettPackard Company', 'HPE'),\n",
    "    ('Intel Corporation', 'INTC'),\n",
    "    ('International Business Machines Corporation', 'IBM'),\n",
    "    ('International Paper Company', 'IP'),\n",
    "    ('JPMorgan Chase Co', 'JPM')\n",
    "]"
   ]
  },
  {
   "cell_type": "markdown",
   "metadata": {},
   "source": [
    "Noted Changes:\n",
    "- No separate tickers between 'AT&T Corporation' and 'AT&T Inc'. Several tickers for the company appear, but they look like separate divisions / asset classes, rather than the company's stock before / after the merge or rename or whatever.\n",
    "- 'Allied Chemical Corporation' changed its name to 'AlliedSignal Incorporated', which then merged with and became 'Honeywell International'.\n",
    "- 'Aluminum Company of America' renamed to 'Alcoa Inc'.\n",
    "- 'American Can Company' merged with financial conglomerate 'Primarica Inc'.\n",
    "- 'American Telephone and Telegraph Company' changed its name to 'AT&T Corporation' (no surprise there).\n",
    "- 'American Tobacco Company' was restructured into a holding company called 'American Brands Inc'.\n",
    "- 'Anaconda Copper Mining Company' was purchased by ARCO and then BP.\n",
    "- 'Bethlehem Steel Corporation' declared bankruptcy in 2001. This is exactly the kind of company I would want to include in the bot, but alas, I'm not easily finding stock info on them.\n",
    "- 'Chrysler Corporation' bankrupted and was acquired by Fiat, the US, and Canada (not sure what that means - I'm assuming the stock price reflected the bankruptcy).\n",
    "- 'DowDuPont Inc' spun off (separated into?) DuPont and Dow Inc.\n",
    "- 'EI du Pont de Nemours & Company' is assumedly now 'DuPont de Nemours Inc', but how it mingled with Dow, DowDuPont, etc. is beyond me right now.\n",
    "- 'Esmark Corporation' is interwoven with 'JBS USA', but the two companies are too distinct to keep them properly on this list.\n",
    "-  There isn't even an article for 'F W Woolworth Company', much less a ticker.\n",
    "- 'Exxon Corporation', as expected, has no immediate difference from 'Exxon Mobil Corporation'.\n",
    "- 'General Foods Corporation' was combined into 'Kraft Foods Inc'.\n",
    "- 'Honeywell International Inc' and 'Honeywell International' are the same company.\n",
    "- 'Inco Limited' was delisted and is a subsidiary of 'Vale'.\n",
    "- 'International Harvester Company' was renamed to 'Navistar Inc', which is a subsidiary of 'Traton'.\n",
    "- 'International Nickel Company Ltd' changed its name to 'Inco Limited' (listed above).\n",
    "- 'JP Morgan & Company' is part of 'JPMorgan Chase & Co'."
   ]
  },
  {
   "cell_type": "markdown",
   "metadata": {},
   "source": [
    "A lot of the companies have merged, changed tickers, changed names, gone bankrupt, changed exchanges, etc. Which affects how easily I can access their historical data.\n",
    "\n",
    "I've done a little research and it looks like I can probably find some data via Library of Congress (though I need to locate a public or academic library that has access to the financial records database). There's also probably newspaper databases, though I don't want to comb through those now (or at all).\n",
    "\n",
    "I expect that I will need to account for these variables at some point, but for right now, I'm going to stick with the stocks that are easily available. It's not great for the survivorship bias (which was the whole point) but it'll be better than ignoring it entirely. Besides, this is more of an exercise in exploring how a neural network might be able to make sense of the vast interconnectedness of the stock market, rather than getting a useable stock bot immediately."
   ]
  },
  {
   "cell_type": "code",
   "execution_count": 13,
   "metadata": {},
   "outputs": [
    {
     "data": {
      "text/plain": [
       "array(['JPMorgan Chase & Co', 'JohnsManville Corporation',\n",
       "       'Johnson & Johnson', 'Kraft Foods Inc', 'McDonalds Corporation',\n",
       "       'Merck & Co Inc', 'Microsoft Corporation',\n",
       "       'Minnesota Mining & Manufacturing Company',\n",
       "       'Navistar International Corporation', 'Nike Inc',\n",
       "       'OwensIllinois Inc', 'Pfizer Inc', 'Philip Morris Companies Inc',\n",
       "       'Raytheon Technologies Corporation', 'SBC Communications Inc',\n",
       "       'Salesforce Inc', 'Sears Roebuck & Company',\n",
       "       'Standard Oil Co of California', 'Standard Oil Co of New Jersey',\n",
       "       'Swift & Company', 'Texaco Incorporated', 'The Boeing Company',\n",
       "       'The CocaCola Company', 'The Goldman Sachs Group Inc',\n",
       "       'The Home Depot Inc', 'The Procter & Gamble Company',\n",
       "       'The Travelers Companies Inc', 'The Walt Disney Company',\n",
       "       'Travelers Inc', 'USX Corporation', 'Union Carbide Corporation',\n",
       "       'United Aircraft Corporation', 'United States Steel Corporation',\n",
       "       'United Technologies Corporation', 'UnitedHealth Group Inc',\n",
       "       'Verizon Communications Inc', 'Visa Inc', 'WalMart Stores Inc',\n",
       "       'Walgreens Boots Alliance Inc', 'Walmart Inc',\n",
       "       'Westinghouse Electric Corporation'], dtype='<U40')"
      ]
     },
     "execution_count": 13,
     "metadata": {},
     "output_type": "execute_result"
    }
   ],
   "source": [
    "# view company names (second half of list)\n",
    "np.array(djia_hist_comps_30_only[45:])"
   ]
  },
  {
   "cell_type": "code",
   "execution_count": 14,
   "metadata": {},
   "outputs": [],
   "source": [
    "# company names and tickers (for second half of list)\n",
    "djia_tickers.extend([\n",
    "    ('Johnson & Johnson', 'JNJ'),\n",
    "    ('McDonalds Corporation', 'MCD'),\n",
    "    ('Merck & Co Inc', 'MRK'),\n",
    "    ('Microsoft Corporation', 'MSFT'),\n",
    "    ('Nike Inc', 'NKE'),\n",
    "    ('OI Glass Inc', 'OI'),\n",
    "    ('Pfizer Inc', 'PFE'),\n",
    "    ('Philip Morris International Inc', 'PM'),\n",
    "    ('RTX Corporation', 'RTX'),\n",
    "    ('Salesforce Inc', 'CRM'),\n",
    "    ('The Boeing Company', 'BOE'),\n",
    "    ('The Coca-Cola Company', 'KO'),\n",
    "    ('The Goldman Sachs Group Inc', 'GS'),\n",
    "    ('The Home Depot Inc', 'HD'),\n",
    "    ('The Procter & Gamble Company', 'PG'),\n",
    "    ('The Travelers Companies Inc', 'TRV'),\n",
    "    ('The Walt Disney Company', 'DIS'),\n",
    "    ('United States Steel Corporation', 'X'),\n",
    "    ('UnitedHealth Group Inc', 'UNH'),\n",
    "    ('Verizon Communications Inc', 'VZ'),\n",
    "    ('Visa Inc', 'V'),\n",
    "    ('Walgreens Boots Alliance Inc', 'WBA'),\n",
    "    ('Walmart Inc', 'WMT')\n",
    "])"
   ]
  },
  {
   "cell_type": "markdown",
   "metadata": {},
   "source": [
    "Noted Changes:\n",
    "- 'Johns Manville Corporation' filed for bankruptcy and was acquired by 'Berkshire Hathaway'.\n",
    "- 'Kraft Foods Inc' is a subcompany of 'Kraft Heinz'.\n",
    "- 'Minnesota Mining & Manufacturing Company' changed its name to '3M Company'.\n",
    "- 'Navistar' is a subsidiary (see above).\n",
    "- 'OwensIllinois Inc' changed its name to 'O-I Glass Inc'.\n",
    "- 'Raytheon Technologies Corporation' was renamed to 'RTX Corporation'.\n",
    "- 'SBC Communications Inc' acquired and renamed to 'AT&T'.\n",
    "- 'Sears Roebuck and Co' bankrupted and was acquired.\n",
    "- 'Standard Oil Co of California' was renamed to 'Chevron Corporation'.\n",
    "- 'Standard Oil Co of New Jersey' was renamed to 'Exxon Corporation'.\n",
    "- 'Swift & Company' was renamed to 'Esmark Corporation' (see above).\n",
    "- 'Texaco' is a subsidiary of 'Chevron'.\n",
    "- 'Travelers Inc' was merged with Citicorp to become 'Citigroup'.\n",
    "- 'USX Corporation' is the 'United States Steel Corporation'.\n",
    "- 'United Technologies Corporation' merged with Raytheon to become 'Raytheon Technologies' (see above).\n",
    "- 'Union Carbide Corporation' was acquired by 'Dow Chemical'.\n",
    "- 'United Aircraft Corporation' was renamed to 'United Technologies Corporation'.\n",
    "- 'WalMart Stores Inc' is the same as 'Walmart Inc'.\n",
    "- 'Westinghouse Electric Corporation' was merged into 'CBS', then 'Viacom'.\n"
   ]
  },
  {
   "cell_type": "code",
   "execution_count": 15,
   "metadata": {},
   "outputs": [
    {
     "data": {
      "text/plain": [
       "49"
      ]
     },
     "execution_count": 15,
     "metadata": {},
     "output_type": "execute_result"
    }
   ],
   "source": [
    "len(djia_tickers)"
   ]
  },
  {
   "cell_type": "markdown",
   "metadata": {},
   "source": [
    "Not bad, all things considered. I'll definitely have to look into **reviewing newspaper databases for historical stock info**.\n",
    "\n",
    "Now I have to get the stock data for each ticker."
   ]
  },
  {
   "cell_type": "markdown",
   "metadata": {},
   "source": [
    "### Get data for each ticker"
   ]
  },
  {
   "cell_type": "markdown",
   "metadata": {},
   "source": [
    "I found a [good article](https://www.qmr.ai/yfinance-library-the-definitive-guide/) on using yfinance."
   ]
  },
  {
   "cell_type": "code",
   "execution_count": 16,
   "metadata": {},
   "outputs": [],
   "source": [
    "# get tickers only\n",
    "djia_tickers_only = [x[1] for x in djia_tickers]"
   ]
  },
  {
   "cell_type": "code",
   "execution_count": 17,
   "metadata": {},
   "outputs": [],
   "source": [
    "# get tickers\n",
    "tickers = yf.Tickers(djia_tickers_only)"
   ]
  },
  {
   "cell_type": "code",
   "execution_count": 18,
   "metadata": {},
   "outputs": [
    {
     "name": "stdout",
     "output_type": "stream",
     "text": [
      "[*********************100%***********************]  49 of 49 completed\n"
     ]
    }
   ],
   "source": [
    "# prepare dataframe\n",
    "tickers_hist = tickers.history(\n",
    "    start= '1972-01-01',\n",
    "    end= '2022-12-31',\n",
    "    auto_adjust= False\n",
    ")\\\n",
    ".stack(level=1)\\\n",
    ".rename_axis(['Date','Ticker'])\\\n",
    ".reset_index(level=1)"
   ]
  },
  {
   "cell_type": "code",
   "execution_count": 19,
   "metadata": {},
   "outputs": [],
   "source": [
    "# sort columns for readability\n",
    "tickers_hist = tickers_hist[[\n",
    "    'Ticker',\n",
    "    'Open',\n",
    "    'High',\n",
    "    'Low',\n",
    "    'Close',\n",
    "    'Adj Close',\n",
    "    'Volume',\n",
    "    'Stock Splits',\n",
    "    'Dividends'\n",
    "]]"
   ]
  },
  {
   "cell_type": "code",
   "execution_count": 20,
   "metadata": {},
   "outputs": [
    {
     "data": {
      "text/html": [
       "<div>\n",
       "<style scoped>\n",
       "    .dataframe tbody tr th:only-of-type {\n",
       "        vertical-align: middle;\n",
       "    }\n",
       "\n",
       "    .dataframe tbody tr th {\n",
       "        vertical-align: top;\n",
       "    }\n",
       "\n",
       "    .dataframe thead th {\n",
       "        text-align: right;\n",
       "    }\n",
       "</style>\n",
       "<table border=\"1\" class=\"dataframe\">\n",
       "  <thead>\n",
       "    <tr style=\"text-align: right;\">\n",
       "      <th></th>\n",
       "      <th>Ticker</th>\n",
       "      <th>Open</th>\n",
       "      <th>High</th>\n",
       "      <th>Low</th>\n",
       "      <th>Close</th>\n",
       "      <th>Adj Close</th>\n",
       "      <th>Volume</th>\n",
       "      <th>Stock Splits</th>\n",
       "      <th>Dividends</th>\n",
       "    </tr>\n",
       "    <tr>\n",
       "      <th>Date</th>\n",
       "      <th></th>\n",
       "      <th></th>\n",
       "      <th></th>\n",
       "      <th></th>\n",
       "      <th></th>\n",
       "      <th></th>\n",
       "      <th></th>\n",
       "      <th></th>\n",
       "      <th></th>\n",
       "    </tr>\n",
       "  </thead>\n",
       "  <tbody>\n",
       "    <tr>\n",
       "      <th>1972-01-03</th>\n",
       "      <td>AA</td>\n",
       "      <td>4.367953</td>\n",
       "      <td>4.455563</td>\n",
       "      <td>4.355438</td>\n",
       "      <td>4.355438</td>\n",
       "      <td>1.275041</td>\n",
       "      <td>129838.0</td>\n",
       "      <td>0.0</td>\n",
       "      <td>0.0</td>\n",
       "    </tr>\n",
       "    <tr>\n",
       "      <th>1972-01-03</th>\n",
       "      <td>CAT</td>\n",
       "      <td>3.937500</td>\n",
       "      <td>3.979167</td>\n",
       "      <td>3.937500</td>\n",
       "      <td>3.937500</td>\n",
       "      <td>1.453360</td>\n",
       "      <td>265200.0</td>\n",
       "      <td>0.0</td>\n",
       "      <td>0.0</td>\n",
       "    </tr>\n",
       "    <tr>\n",
       "      <th>1972-01-03</th>\n",
       "      <td>CVX</td>\n",
       "      <td>3.585938</td>\n",
       "      <td>3.625000</td>\n",
       "      <td>3.570313</td>\n",
       "      <td>3.609375</td>\n",
       "      <td>0.557802</td>\n",
       "      <td>542400.0</td>\n",
       "      <td>0.0</td>\n",
       "      <td>0.0</td>\n",
       "    </tr>\n",
       "    <tr>\n",
       "      <th>1972-01-03</th>\n",
       "      <td>DIS</td>\n",
       "      <td>1.412956</td>\n",
       "      <td>1.427085</td>\n",
       "      <td>1.387266</td>\n",
       "      <td>1.394973</td>\n",
       "      <td>0.928376</td>\n",
       "      <td>1216422.0</td>\n",
       "      <td>0.0</td>\n",
       "      <td>0.0</td>\n",
       "    </tr>\n",
       "    <tr>\n",
       "      <th>1972-01-03</th>\n",
       "      <td>GE</td>\n",
       "      <td>7.834549</td>\n",
       "      <td>7.912738</td>\n",
       "      <td>7.818912</td>\n",
       "      <td>7.881463</td>\n",
       "      <td>1.719223</td>\n",
       "      <td>352511.0</td>\n",
       "      <td>0.0</td>\n",
       "      <td>0.0</td>\n",
       "    </tr>\n",
       "  </tbody>\n",
       "</table>\n",
       "</div>"
      ],
      "text/plain": [
       "           Ticker      Open      High       Low     Close  Adj Close  \\\n",
       "Date                                                                   \n",
       "1972-01-03     AA  4.367953  4.455563  4.355438  4.355438   1.275041   \n",
       "1972-01-03    CAT  3.937500  3.979167  3.937500  3.937500   1.453360   \n",
       "1972-01-03    CVX  3.585938  3.625000  3.570313  3.609375   0.557802   \n",
       "1972-01-03    DIS  1.412956  1.427085  1.387266  1.394973   0.928376   \n",
       "1972-01-03     GE  7.834549  7.912738  7.818912  7.881463   1.719223   \n",
       "\n",
       "               Volume  Stock Splits  Dividends  \n",
       "Date                                            \n",
       "1972-01-03   129838.0           0.0        0.0  \n",
       "1972-01-03   265200.0           0.0        0.0  \n",
       "1972-01-03   542400.0           0.0        0.0  \n",
       "1972-01-03  1216422.0           0.0        0.0  \n",
       "1972-01-03   352511.0           0.0        0.0  "
      ]
     },
     "execution_count": 20,
     "metadata": {},
     "output_type": "execute_result"
    }
   ],
   "source": [
    "tickers_hist.head()"
   ]
  },
  {
   "cell_type": "code",
   "execution_count": 21,
   "metadata": {},
   "outputs": [
    {
     "data": {
      "text/plain": [
       "(498498, 9)"
      ]
     },
     "execution_count": 21,
     "metadata": {},
     "output_type": "execute_result"
    }
   ],
   "source": [
    "tickers_hist.shape"
   ]
  },
  {
   "cell_type": "markdown",
   "metadata": {},
   "source": [
    "Everything looks good here. Roughly 500k records is a solid dataset to work with. I've looked at some of the records for companies whose IPOs were after the start date (Jan 1 1973) and their first records are for their IPO. I'll have to manually **add 0-coded records for those companies whose IPOs happened after the start date**. In the meantime, this should be good to convert to store in a CSV."
   ]
  },
  {
   "cell_type": "markdown",
   "metadata": {},
   "source": [
    "## Save it in csv"
   ]
  },
  {
   "cell_type": "code",
   "execution_count": 22,
   "metadata": {},
   "outputs": [],
   "source": [
    "# convert data to CSV\n",
    "tickers_hist.to_csv('DJIA_price_history_base.csv')"
   ]
  },
  {
   "cell_type": "markdown",
   "metadata": {},
   "source": [
    "## Transform into useable format"
   ]
  },
  {
   "cell_type": "markdown",
   "metadata": {},
   "source": [
    "Now that I have some data, I need to put it into a format I can work with. The actual price probably isn't the best format because the prices are specific to each ticker. I'd like something more standardized.\n",
    "\n",
    "My thought is to have the prices be represented as a percentage change from the previous day (or week, or month, etc). My overall goal is to use this data to try to predict whether the next day's price will reach a certain threshold."
   ]
  },
  {
   "cell_type": "code",
   "execution_count": 23,
   "metadata": {},
   "outputs": [
    {
     "data": {
      "text/html": [
       "<div>\n",
       "<style scoped>\n",
       "    .dataframe tbody tr th:only-of-type {\n",
       "        vertical-align: middle;\n",
       "    }\n",
       "\n",
       "    .dataframe tbody tr th {\n",
       "        vertical-align: top;\n",
       "    }\n",
       "\n",
       "    .dataframe thead th {\n",
       "        text-align: right;\n",
       "    }\n",
       "</style>\n",
       "<table border=\"1\" class=\"dataframe\">\n",
       "  <thead>\n",
       "    <tr style=\"text-align: right;\">\n",
       "      <th></th>\n",
       "      <th>Date</th>\n",
       "      <th>Ticker</th>\n",
       "      <th>Open</th>\n",
       "      <th>High</th>\n",
       "      <th>Low</th>\n",
       "      <th>Close</th>\n",
       "      <th>Adj Close</th>\n",
       "      <th>Volume</th>\n",
       "      <th>Stock Splits</th>\n",
       "      <th>Dividends</th>\n",
       "    </tr>\n",
       "  </thead>\n",
       "  <tbody>\n",
       "    <tr>\n",
       "      <th>443085</th>\n",
       "      <td>2018-06-29</td>\n",
       "      <td>INTC</td>\n",
       "      <td>49.529999</td>\n",
       "      <td>50.110001</td>\n",
       "      <td>49.500000</td>\n",
       "      <td>49.709999</td>\n",
       "      <td>42.963696</td>\n",
       "      <td>28906500.0</td>\n",
       "      <td>0.0</td>\n",
       "      <td>0.0</td>\n",
       "    </tr>\n",
       "    <tr>\n",
       "      <th>72161</th>\n",
       "      <td>1982-12-17</td>\n",
       "      <td>JPM</td>\n",
       "      <td>0.000000</td>\n",
       "      <td>9.222222</td>\n",
       "      <td>8.861111</td>\n",
       "      <td>9.166667</td>\n",
       "      <td>1.999012</td>\n",
       "      <td>243000.0</td>\n",
       "      <td>0.0</td>\n",
       "      <td>0.0</td>\n",
       "    </tr>\n",
       "    <tr>\n",
       "      <th>330913</th>\n",
       "      <td>2008-12-04</td>\n",
       "      <td>BAC</td>\n",
       "      <td>14.740000</td>\n",
       "      <td>15.360000</td>\n",
       "      <td>13.930000</td>\n",
       "      <td>14.340000</td>\n",
       "      <td>11.802994</td>\n",
       "      <td>107562100.0</td>\n",
       "      <td>0.0</td>\n",
       "      <td>0.0</td>\n",
       "    </tr>\n",
       "    <tr>\n",
       "      <th>149364</th>\n",
       "      <td>1991-05-20</td>\n",
       "      <td>JPM</td>\n",
       "      <td>6.250000</td>\n",
       "      <td>6.333333</td>\n",
       "      <td>6.208333</td>\n",
       "      <td>6.250000</td>\n",
       "      <td>2.374644</td>\n",
       "      <td>414600.0</td>\n",
       "      <td>0.0</td>\n",
       "      <td>0.0</td>\n",
       "    </tr>\n",
       "    <tr>\n",
       "      <th>271112</th>\n",
       "      <td>2003-05-14</td>\n",
       "      <td>IP</td>\n",
       "      <td>34.974373</td>\n",
       "      <td>35.002392</td>\n",
       "      <td>34.470070</td>\n",
       "      <td>34.675526</td>\n",
       "      <td>16.780722</td>\n",
       "      <td>2782539.0</td>\n",
       "      <td>0.0</td>\n",
       "      <td>0.0</td>\n",
       "    </tr>\n",
       "    <tr>\n",
       "      <th>200016</th>\n",
       "      <td>1996-05-28</td>\n",
       "      <td>HON</td>\n",
       "      <td>27.468960</td>\n",
       "      <td>27.588131</td>\n",
       "      <td>26.753933</td>\n",
       "      <td>27.111446</td>\n",
       "      <td>15.148894</td>\n",
       "      <td>1355823.0</td>\n",
       "      <td>0.0</td>\n",
       "      <td>0.0</td>\n",
       "    </tr>\n",
       "    <tr>\n",
       "      <th>63684</th>\n",
       "      <td>1981-12-01</td>\n",
       "      <td>MMM</td>\n",
       "      <td>6.781250</td>\n",
       "      <td>6.828125</td>\n",
       "      <td>6.734375</td>\n",
       "      <td>6.781250</td>\n",
       "      <td>1.844720</td>\n",
       "      <td>855200.0</td>\n",
       "      <td>0.0</td>\n",
       "      <td>0.0</td>\n",
       "    </tr>\n",
       "    <tr>\n",
       "      <th>99070</th>\n",
       "      <td>1986-01-15</td>\n",
       "      <td>IBM</td>\n",
       "      <td>35.731358</td>\n",
       "      <td>36.508125</td>\n",
       "      <td>35.671604</td>\n",
       "      <td>36.478249</td>\n",
       "      <td>13.843639</td>\n",
       "      <td>5830822.0</td>\n",
       "      <td>0.0</td>\n",
       "      <td>0.0</td>\n",
       "    </tr>\n",
       "  </tbody>\n",
       "</table>\n",
       "</div>"
      ],
      "text/plain": [
       "              Date Ticker       Open       High        Low      Close  \\\n",
       "443085  2018-06-29   INTC  49.529999  50.110001  49.500000  49.709999   \n",
       "72161   1982-12-17    JPM   0.000000   9.222222   8.861111   9.166667   \n",
       "330913  2008-12-04    BAC  14.740000  15.360000  13.930000  14.340000   \n",
       "149364  1991-05-20    JPM   6.250000   6.333333   6.208333   6.250000   \n",
       "271112  2003-05-14     IP  34.974373  35.002392  34.470070  34.675526   \n",
       "200016  1996-05-28    HON  27.468960  27.588131  26.753933  27.111446   \n",
       "63684   1981-12-01    MMM   6.781250   6.828125   6.734375   6.781250   \n",
       "99070   1986-01-15    IBM  35.731358  36.508125  35.671604  36.478249   \n",
       "\n",
       "        Adj Close       Volume  Stock Splits  Dividends  \n",
       "443085  42.963696   28906500.0           0.0        0.0  \n",
       "72161    1.999012     243000.0           0.0        0.0  \n",
       "330913  11.802994  107562100.0           0.0        0.0  \n",
       "149364   2.374644     414600.0           0.0        0.0  \n",
       "271112  16.780722    2782539.0           0.0        0.0  \n",
       "200016  15.148894    1355823.0           0.0        0.0  \n",
       "63684    1.844720     855200.0           0.0        0.0  \n",
       "99070   13.843639    5830822.0           0.0        0.0  "
      ]
     },
     "metadata": {},
     "output_type": "display_data"
    }
   ],
   "source": [
    "# get DJIA data\n",
    "djia = pd.read_csv('DJIA_price_history_base.csv')\n",
    "\n",
    "display(djia.sample(8))"
   ]
  },
  {
   "cell_type": "code",
   "execution_count": 24,
   "metadata": {},
   "outputs": [
    {
     "name": "stdout",
     "output_type": "stream",
     "text": [
      "<class 'pandas.core.frame.DataFrame'>\n",
      "RangeIndex: 498498 entries, 0 to 498497\n",
      "Data columns (total 10 columns):\n",
      " #   Column        Non-Null Count   Dtype  \n",
      "---  ------        --------------   -----  \n",
      " 0   Date          498498 non-null  object \n",
      " 1   Ticker        498498 non-null  object \n",
      " 2   Open          498498 non-null  float64\n",
      " 3   High          498498 non-null  float64\n",
      " 4   Low           498498 non-null  float64\n",
      " 5   Close         498498 non-null  float64\n",
      " 6   Adj Close     498498 non-null  float64\n",
      " 7   Volume        498498 non-null  float64\n",
      " 8   Stock Splits  498498 non-null  float64\n",
      " 9   Dividends     498498 non-null  float64\n",
      "dtypes: float64(8), object(2)\n",
      "memory usage: 38.0+ MB\n"
     ]
    }
   ],
   "source": [
    "djia.info()"
   ]
  },
  {
   "cell_type": "markdown",
   "metadata": {},
   "source": [
    "I could use the adjusted close for now, but I'll have to create something more robust in the future.\n",
    "\n",
    "The trick now is to create a new Dataframe. I'm considering structuring it so that the companies are the columns/variables and the records are the dates, but I'm not sure how I'm going to approach constructing the tensors for the neural network with this."
   ]
  },
  {
   "cell_type": "markdown",
   "metadata": {},
   "source": [
    "First, I think I need to start by initializing zero-coded values for all companies that do not have data going back to January 1, 1972."
   ]
  },
  {
   "cell_type": "code",
   "execution_count": 25,
   "metadata": {},
   "outputs": [],
   "source": [
    "# get date for first record for all companies\n",
    "companies = djia['Ticker'].unique()\n",
    "listing_dates = []\n",
    "for ticker in companies:\n",
    "    listing_date = djia.loc[djia['Ticker'] == ticker]['Date'].min()\n",
    "    listing_dates.append(listing_date)\n",
    "\n",
    "first_dates = np.array([companies, listing_dates]).T\n",
    "\n",
    "first_dates = pd.DataFrame(\n",
    "    data= first_dates,\n",
    "    columns= ['name', 'listing_date']\n",
    ")\n"
   ]
  },
  {
   "cell_type": "code",
   "execution_count": 26,
   "metadata": {},
   "outputs": [
    {
     "data": {
      "text/html": [
       "<div>\n",
       "<style scoped>\n",
       "    .dataframe tbody tr th:only-of-type {\n",
       "        vertical-align: middle;\n",
       "    }\n",
       "\n",
       "    .dataframe tbody tr th {\n",
       "        vertical-align: top;\n",
       "    }\n",
       "\n",
       "    .dataframe thead th {\n",
       "        text-align: right;\n",
       "    }\n",
       "</style>\n",
       "<table border=\"1\" class=\"dataframe\">\n",
       "  <thead>\n",
       "    <tr style=\"text-align: right;\">\n",
       "      <th></th>\n",
       "      <th>name</th>\n",
       "      <th>listing_date</th>\n",
       "    </tr>\n",
       "  </thead>\n",
       "  <tbody>\n",
       "    <tr>\n",
       "      <th>41</th>\n",
       "      <td>CRM</td>\n",
       "      <td>2004-06-23</td>\n",
       "    </tr>\n",
       "    <tr>\n",
       "      <th>37</th>\n",
       "      <td>CSCO</td>\n",
       "      <td>1990-02-16</td>\n",
       "    </tr>\n",
       "    <tr>\n",
       "      <th>35</th>\n",
       "      <td>UNH</td>\n",
       "      <td>1984-10-17</td>\n",
       "    </tr>\n",
       "    <tr>\n",
       "      <th>31</th>\n",
       "      <td>HD</td>\n",
       "      <td>1981-09-22</td>\n",
       "    </tr>\n",
       "    <tr>\n",
       "      <th>48</th>\n",
       "      <td>DOW</td>\n",
       "      <td>2019-03-20</td>\n",
       "    </tr>\n",
       "  </tbody>\n",
       "</table>\n",
       "</div>"
      ],
      "text/plain": [
       "    name listing_date\n",
       "41   CRM   2004-06-23\n",
       "37  CSCO   1990-02-16\n",
       "35   UNH   1984-10-17\n",
       "31    HD   1981-09-22\n",
       "48   DOW   2019-03-20"
      ]
     },
     "metadata": {},
     "output_type": "display_data"
    }
   ],
   "source": [
    "# get companies and first dates not listed on or prior to Jan 1, 1972\n",
    "late_listers = first_dates.loc[first_dates['listing_date'] != djia['Date'].min()]\n",
    "display(late_listers.sample(5))"
   ]
  },
  {
   "cell_type": "code",
   "execution_count": 27,
   "metadata": {},
   "outputs": [],
   "source": [
    "# sort all unique dates (some dates are not market days)\n",
    "all_dates = djia['Date'].unique()\n",
    "all_dates.sort()\n",
    "\n",
    "# initialize data holder\n",
    "entries_to_add = list()\n",
    "\n",
    "# append zeroed entries post-1/1/1973 not yet existing for all dates for all companies\n",
    "for company in late_listers['name'].values:\n",
    "    listing_date = late_listers.loc[late_listers['name'] == company]['listing_date'].values[0]\n",
    "    up_to_date_idx = np.where(all_dates == listing_date)[0][0]\n",
    "\n",
    "    for date in all_dates[:up_to_date_idx]:\n",
    "        zeroed_entry = [\n",
    "            date,\n",
    "            company,\n",
    "            0.0,\n",
    "            0.0,\n",
    "            0.0,\n",
    "            0.0,\n",
    "            0.0,\n",
    "            0.0,\n",
    "            0.0,\n",
    "            0.0\n",
    "        ]\n",
    "        entries_to_add.append(zeroed_entry)\n",
    "\n",
    "# construct dataframe from data holder\n",
    "entries_to_add = pd.DataFrame(\n",
    "    data= entries_to_add,\n",
    "    columns= djia.columns\n",
    ")"
   ]
  },
  {
   "cell_type": "code",
   "execution_count": 28,
   "metadata": {},
   "outputs": [],
   "source": [
    "# concatenate dataframe\n",
    "djia = pd.concat(\n",
    "    [djia, entries_to_add],\n",
    "    ignore_index= True\n",
    ").sort_values(\n",
    "    by= ['Ticker', 'Date'],\n",
    "    ignore_index= True\n",
    ")"
   ]
  },
  {
   "cell_type": "code",
   "execution_count": 32,
   "metadata": {},
   "outputs": [],
   "source": [
    "# resave to price history\n",
    "# djia.to_csv('DJIA_price_history.csv', index= False)"
   ]
  },
  {
   "cell_type": "code",
   "execution_count": 33,
   "metadata": {},
   "outputs": [
    {
     "data": {
      "text/html": [
       "<div>\n",
       "<style scoped>\n",
       "    .dataframe tbody tr th:only-of-type {\n",
       "        vertical-align: middle;\n",
       "    }\n",
       "\n",
       "    .dataframe tbody tr th {\n",
       "        vertical-align: top;\n",
       "    }\n",
       "\n",
       "    .dataframe thead th {\n",
       "        text-align: right;\n",
       "    }\n",
       "</style>\n",
       "<table border=\"1\" class=\"dataframe\">\n",
       "  <thead>\n",
       "    <tr style=\"text-align: right;\">\n",
       "      <th></th>\n",
       "      <th>Date</th>\n",
       "      <th>Ticker</th>\n",
       "      <th>Open</th>\n",
       "      <th>High</th>\n",
       "      <th>Low</th>\n",
       "      <th>Close</th>\n",
       "      <th>Adj Close</th>\n",
       "      <th>Volume</th>\n",
       "      <th>Stock Splits</th>\n",
       "      <th>Dividends</th>\n",
       "    </tr>\n",
       "  </thead>\n",
       "  <tbody>\n",
       "    <tr>\n",
       "      <th>520267</th>\n",
       "      <td>1994-11-25</td>\n",
       "      <td>T</td>\n",
       "      <td>15.908233</td>\n",
       "      <td>16.002644</td>\n",
       "      <td>15.861027</td>\n",
       "      <td>15.861027</td>\n",
       "      <td>2.651072</td>\n",
       "      <td>642140.0</td>\n",
       "      <td>0.0</td>\n",
       "      <td>0.0</td>\n",
       "    </tr>\n",
       "    <tr>\n",
       "      <th>520836</th>\n",
       "      <td>1997-02-26</td>\n",
       "      <td>T</td>\n",
       "      <td>21.242447</td>\n",
       "      <td>21.289654</td>\n",
       "      <td>20.912008</td>\n",
       "      <td>21.148035</td>\n",
       "      <td>3.918488</td>\n",
       "      <td>1976997.0</td>\n",
       "      <td>0.0</td>\n",
       "      <td>0.0</td>\n",
       "    </tr>\n",
       "    <tr>\n",
       "      <th>475638</th>\n",
       "      <td>2021-12-27</td>\n",
       "      <td>PFE</td>\n",
       "      <td>58.849998</td>\n",
       "      <td>59.380001</td>\n",
       "      <td>58.230000</td>\n",
       "      <td>59.200001</td>\n",
       "      <td>55.588730</td>\n",
       "      <td>27362600.0</td>\n",
       "      <td>0.0</td>\n",
       "      <td>0.0</td>\n",
       "    </tr>\n",
       "    <tr>\n",
       "      <th>218125</th>\n",
       "      <td>2020-11-24</td>\n",
       "      <td>GM</td>\n",
       "      <td>45.910000</td>\n",
       "      <td>46.709999</td>\n",
       "      <td>45.070000</td>\n",
       "      <td>46.459999</td>\n",
       "      <td>46.015663</td>\n",
       "      <td>20048700.0</td>\n",
       "      <td>0.0</td>\n",
       "      <td>0.0</td>\n",
       "    </tr>\n",
       "    <tr>\n",
       "      <th>352627</th>\n",
       "      <td>1993-03-10</td>\n",
       "      <td>KO</td>\n",
       "      <td>10.750000</td>\n",
       "      <td>10.750000</td>\n",
       "      <td>10.593750</td>\n",
       "      <td>10.718750</td>\n",
       "      <td>5.179531</td>\n",
       "      <td>4682000.0</td>\n",
       "      <td>0.0</td>\n",
       "      <td>0.0</td>\n",
       "    </tr>\n",
       "    <tr>\n",
       "      <th>85930</th>\n",
       "      <td>2006-09-13</td>\n",
       "      <td>BOE</td>\n",
       "      <td>26.120001</td>\n",
       "      <td>26.230000</td>\n",
       "      <td>25.980000</td>\n",
       "      <td>25.980000</td>\n",
       "      <td>4.813482</td>\n",
       "      <td>47600.0</td>\n",
       "      <td>0.0</td>\n",
       "      <td>0.0</td>\n",
       "    </tr>\n",
       "    <tr>\n",
       "      <th>413311</th>\n",
       "      <td>1978-11-03</td>\n",
       "      <td>MRK</td>\n",
       "      <td>1.570452</td>\n",
       "      <td>1.590331</td>\n",
       "      <td>1.550573</td>\n",
       "      <td>1.583704</td>\n",
       "      <td>0.388678</td>\n",
       "      <td>1826035.0</td>\n",
       "      <td>0.0</td>\n",
       "      <td>0.0</td>\n",
       "    </tr>\n",
       "    <tr>\n",
       "      <th>132231</th>\n",
       "      <td>1986-04-21</td>\n",
       "      <td>CSCO</td>\n",
       "      <td>0.000000</td>\n",
       "      <td>0.000000</td>\n",
       "      <td>0.000000</td>\n",
       "      <td>0.000000</td>\n",
       "      <td>0.000000</td>\n",
       "      <td>0.0</td>\n",
       "      <td>0.0</td>\n",
       "      <td>0.0</td>\n",
       "    </tr>\n",
       "  </tbody>\n",
       "</table>\n",
       "</div>"
      ],
      "text/plain": [
       "              Date Ticker       Open       High        Low      Close  \\\n",
       "520267  1994-11-25      T  15.908233  16.002644  15.861027  15.861027   \n",
       "520836  1997-02-26      T  21.242447  21.289654  20.912008  21.148035   \n",
       "475638  2021-12-27    PFE  58.849998  59.380001  58.230000  59.200001   \n",
       "218125  2020-11-24     GM  45.910000  46.709999  45.070000  46.459999   \n",
       "352627  1993-03-10     KO  10.750000  10.750000  10.593750  10.718750   \n",
       "85930   2006-09-13    BOE  26.120001  26.230000  25.980000  25.980000   \n",
       "413311  1978-11-03    MRK   1.570452   1.590331   1.550573   1.583704   \n",
       "132231  1986-04-21   CSCO   0.000000   0.000000   0.000000   0.000000   \n",
       "\n",
       "        Adj Close      Volume  Stock Splits  Dividends  \n",
       "520267   2.651072    642140.0           0.0        0.0  \n",
       "520836   3.918488   1976997.0           0.0        0.0  \n",
       "475638  55.588730  27362600.0           0.0        0.0  \n",
       "218125  46.015663  20048700.0           0.0        0.0  \n",
       "352627   5.179531   4682000.0           0.0        0.0  \n",
       "85930    4.813482     47600.0           0.0        0.0  \n",
       "413311   0.388678   1826035.0           0.0        0.0  \n",
       "132231   0.000000         0.0           0.0        0.0  "
      ]
     },
     "execution_count": 33,
     "metadata": {},
     "output_type": "execute_result"
    }
   ],
   "source": [
    "# get saved DJIA price history\n",
    "djia = pd.read_csv('DJIA_price_history.csv')\n",
    "\n",
    "djia.sample(8)"
   ]
  },
  {
   "cell_type": "markdown",
   "metadata": {},
   "source": [
    "Now it's a matter of converting it into a percentage format. There are some things to keep in mind:\n",
    "- There will be no change recorded if both days are zero (company is not listed)\n",
    "- There will be no change recorded if the previous day is zero (company IPO, calculating percentage change would be dividing by zero)\n",
    "- If using the close to calculate, stock splits or dividends will need to be checked to ensure that close prices reflect the changes properly\n",
    "\n",
    "For now, I will use the adjusted close for proof of concept, and go from there."
   ]
  },
  {
   "cell_type": "code",
   "execution_count": 36,
   "metadata": {},
   "outputs": [],
   "source": [
    "# daily percentage change by company\n",
    "djia['Percentage Change'] = djia.groupby('Ticker')['Adj Close'].pct_change() * 100"
   ]
  },
  {
   "cell_type": "code",
   "execution_count": 51,
   "metadata": {},
   "outputs": [],
   "source": [
    "# fill null values\n",
    "djia['Percentage Change'].fillna(value= 0.0, inplace= True)"
   ]
  },
  {
   "cell_type": "code",
   "execution_count": 54,
   "metadata": {},
   "outputs": [],
   "source": [
    "# fill infinitys (DIV/0, IPO)\n",
    "djia.replace(to_replace= np.inf, value= 0.0, inplace= True)"
   ]
  },
  {
   "cell_type": "code",
   "execution_count": 58,
   "metadata": {},
   "outputs": [
    {
     "data": {
      "text/plain": [
       "False"
      ]
     },
     "execution_count": 58,
     "metadata": {},
     "output_type": "execute_result"
    }
   ],
   "source": [
    "# check any null values in dataframe\n",
    "djia.isnull().any().any()"
   ]
  },
  {
   "cell_type": "markdown",
   "metadata": {},
   "source": [
    "Now I have a percentage change column from the previous day for all tickers."
   ]
  },
  {
   "cell_type": "markdown",
   "metadata": {},
   "source": [
    "## Define Neural Network Structure"
   ]
  },
  {
   "cell_type": "markdown",
   "metadata": {},
   "source": [
    "I don't think I should be so quick to jump directly into a neural network. I'm thinking I'll start with something really simple and work my way up."
   ]
  },
  {
   "cell_type": "markdown",
   "metadata": {},
   "source": [
    "A few things I would like to try:\n",
    "1. Predict probability of stock price increasing at all, given price of all stocks from previous day (logistic regression)\n",
    "2. Predict percentage change of a stock price given price of all stocks from previous day (linear regression)\n",
    "3. Predict probability of stock price *increasing* X percent given price of all stocks from previous day (logistic regression)\n",
    "4. Predict probability of stock price *decreasing* X percent given price of all stocks from previous day"
   ]
  },
  {
   "cell_type": "markdown",
   "metadata": {},
   "source": [
    "In the above, I said \"X percent\". Let's assume that I have an ambitious goal of doubling my money every quarter. Given that I am aiming for a skewed distribution of returns, where the bulk are positive, I will decide the mean via:\n",
    "\n",
    "$ A = P(1+{r \\over n})^{nt} $\n",
    "\n",
    "assuming $ P = 1 $ and $ A = 2 $, doubling our funds, <br>\n",
    "$ n = 1 $ where the interest is applied once per period, and <br>\n",
    "$ t = 91 $ is the average number of days per quarter, <br>\n",
    "then:\n",
    "\n",
    "$ 2 = (1+{r})^{30} $ where $r$ is the daily percentage increase in portfolio value.\n",
    "\n",
    "$ \\sqrt[30]{2} - 1 = r $\n",
    "\n",
    "$ r = 0.00773 $\n",
    "\n",
    "so the portfolio value must increase 0.773% every day to double in a quarter."
   ]
  },
  {
   "cell_type": "markdown",
   "metadata": {},
   "source": [
    "Let's also assume that I want a skewed normal distribution where 3/4 of my trades are positive, and the highest peak in the distribution is at 1."
   ]
  },
  {
   "cell_type": "code",
   "execution_count": 33,
   "metadata": {},
   "outputs": [
    {
     "data": {
      "text/plain": [
       "(-0.018010405760280467, 0.5)"
      ]
     },
     "execution_count": 33,
     "metadata": {},
     "output_type": "execute_result"
    },
    {
     "data": {
      "image/png": "[encoded data removed]",
      "text/plain": [
       "<Figure size 640x480 with 1 Axes>"
      ]
     },
     "metadata": {},
     "output_type": "display_data"
    }
   ],
   "source": [
    "x = np.linspace(\n",
    "    skewnorm.ppf(0.001, -0.5, loc=0.77, scale=1),\n",
    "    skewnorm.ppf(0.9999, -0.5, loc=0.77, scale=1),\n",
    "    100)\n",
    "plt.plot(\n",
    "    x, skewnorm.pdf(x, 0, loc=0.77, scale=1)\n",
    ")\n",
    "plt.ylim(top=0.5)"
   ]
  }
 ],
 "metadata": {
  "kernelspec": {
   "display_name": "venv",
   "language": "python",
   "name": "python3"
  },
  "language_info": {
   "codemirror_mode": {
    "name": "ipython",
    "version": 3
   },
   "file_extension": ".py",
   "mimetype": "text/x-python",
   "name": "python",
   "nbconvert_exporter": "python",
   "pygments_lexer": "ipython3",
   "version": "3.10.11"
  },
  "orig_nbformat": 4,
  "vscode": {
   "interpreter": {
    "hash": "27771ea68735cac1916c104ed3d69e2cb0eb000f6c9d574c6a08d3bbf1e9acce"
   }
  }
 },
 "nbformat": 4,
 "nbformat_minor": 2
}
