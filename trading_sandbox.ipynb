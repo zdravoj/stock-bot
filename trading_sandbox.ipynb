{
 "cells": [
  {
   "cell_type": "markdown",
   "metadata": {},
   "source": [
    "# Libraries"
   ]
  },
  {
   "cell_type": "code",
   "execution_count": 1,
   "metadata": {},
   "outputs": [],
   "source": [
    "import yfinance as yf\n",
    "import pandas as pd\n",
    "import numpy as np\n",
    "\n",
    "import re"
   ]
  },
  {
   "cell_type": "markdown",
   "metadata": {},
   "source": [
    "# First Steps\n",
    "\n",
    "1. Get some stock market data\n",
    "2. Save it in csv\n",
    "3. Transform into useable format (keep as price? transform into percent change? per day?)\n",
    "4. Define Neural Network Structure\n",
    "5. Create Neural Network\n"
   ]
  },
  {
   "cell_type": "markdown",
   "metadata": {},
   "source": [
    "Keeping stock prices in their standard format would allow each entry to serve as ground truth, while a percentage change would be a relative system. To find a stock change from day X to day Y would require recursively multiplying all percentage changes from day Y back to day X.\n",
    "\n",
    "Keeping stock prices in percentage change format would help automatically account for stock splits. Adjusted price already accounts for this, but I don't want to use the adjusted price because I don't understand it enough."
   ]
  },
  {
   "cell_type": "markdown",
   "metadata": {},
   "source": [
    "## Get some stock market data"
   ]
  },
  {
   "cell_type": "markdown",
   "metadata": {},
   "source": [
    "I expect the easiest way to do this is with yfinance, though I might look at some other options because yfinance isn't as well maintained as some more professional open source libraries, and it no longer links to a formal yahoo API."
   ]
  },
  {
   "cell_type": "markdown",
   "metadata": {},
   "source": [
    "Polygon.io seems promising, but the free version only has 5 API calls per minute (not sure the extent of data I can grab with a single API call, but it doesn't sound like very much), and I can only access two years of historical data."
   ]
  },
  {
   "cell_type": "markdown",
   "metadata": {},
   "source": [
    "I'll probably stick with yfinance for now. It's the easiest.\n",
    "\n",
    "I've done some work with yfinance and one of the difficulties is that it pulls data into a **multi-index dataframe**. I'll have to **transform it into something tidy**."
   ]
  },
  {
   "cell_type": "markdown",
   "metadata": {},
   "source": [
    "I'm going to start simple and get a dataset from the DJIA (Dow Jones Industrial Average). It represents a significant portion of the market and it's a good starting point without getting too much in the weeds of big stock data with larger indexes like the S&P 500 or the Wilshire 5000."
   ]
  },
  {
   "cell_type": "markdown",
   "metadata": {},
   "source": [
    "Some obstacles to grapple with are:\n",
    "- **how to handle companies which were bankrupted**. If I don't include these, then the dataset will suffer heavily from survivorship bias.\n",
    "- **how to handle companies which were merged**. A merged company doesn't go out of business (and so is probably still a good investment) but **representing the change in stock price from the merge** might be difficult."
   ]
  },
  {
   "cell_type": "markdown",
   "metadata": {},
   "source": [
    "I found a list of all companies ever listed on the DJIA, but it's stored in a Wikipedia article where the changes are grouped as companies listed on the DJIA on a certain date. There is some text about which companies are moved / merged, but I'll have to parse the complete list with some programming."
   ]
  },
  {
   "cell_type": "markdown",
   "metadata": {},
   "source": [
    "There's also the issue of how far to go back for good training data. The DJIA goes back all the way to 1896, but I don't need data back that far for training. Out of convenience, let's have an 80/20 train-test split, where the training set is 40 years, and the testing set is 10 years.\n",
    "\n",
    "I won't pull until today - that seems ridiculous. Let's set the test cutoff to be December 31, 2023. That means the first training observation will be from January 1, 1973. I don't need to pull data from before then, and I don't need to pull companies listed on the DJIA before then."
   ]
  },
  {
   "cell_type": "markdown",
   "metadata": {},
   "source": [
    "### Get company names"
   ]
  },
  {
   "cell_type": "code",
   "execution_count": 2,
   "metadata": {},
   "outputs": [],
   "source": [
    "djia_hist_comps = pd.read_html('https://en.wikipedia.org/wiki/Historical_components_of_the_Dow_Jones_Industrial_Average')"
   ]
  },
  {
   "cell_type": "code",
   "execution_count": 3,
   "metadata": {},
   "outputs": [
    {
     "data": {
      "text/html": [
       "<div>\n",
       "<style scoped>\n",
       "    .dataframe tbody tr th:only-of-type {\n",
       "        vertical-align: middle;\n",
       "    }\n",
       "\n",
       "    .dataframe tbody tr th {\n",
       "        vertical-align: top;\n",
       "    }\n",
       "\n",
       "    .dataframe thead th {\n",
       "        text-align: right;\n",
       "    }\n",
       "</style>\n",
       "<table border=\"1\" class=\"dataframe\">\n",
       "  <thead>\n",
       "    <tr style=\"text-align: right;\">\n",
       "      <th></th>\n",
       "      <th>0</th>\n",
       "      <th>1</th>\n",
       "      <th>2</th>\n",
       "    </tr>\n",
       "  </thead>\n",
       "  <tbody>\n",
       "    <tr>\n",
       "      <th>13</th>\n",
       "      <td>The Boeing Company</td>\n",
       "      <td>International Business Machines Corporation</td>\n",
       "      <td>The Travelers Companies, Inc.</td>\n",
       "    </tr>\n",
       "    <tr>\n",
       "      <th>83</th>\n",
       "      <td>AT&amp;T Inc.</td>\n",
       "      <td>Hewlett-Packard Company</td>\n",
       "      <td>The Procter &amp; Gamble Company</td>\n",
       "    </tr>\n",
       "    <tr>\n",
       "      <th>140</th>\n",
       "      <td>3M Company † (formerly Minnesota Mining &amp; Manu...</td>\n",
       "      <td>Eastman Kodak Company</td>\n",
       "      <td>Johnson &amp; Johnson</td>\n",
       "    </tr>\n",
       "    <tr>\n",
       "      <th>108</th>\n",
       "      <td>Citigroup Inc.</td>\n",
       "      <td>Johnson &amp; Johnson</td>\n",
       "      <td>Wal-Mart Stores, Inc.</td>\n",
       "    </tr>\n",
       "    <tr>\n",
       "      <th>216</th>\n",
       "      <td>E.I. du Pont de Nemours &amp; Company</td>\n",
       "      <td>International Paper Company</td>\n",
       "      <td>United States Steel Corporation</td>\n",
       "    </tr>\n",
       "    <tr>\n",
       "      <th>78</th>\n",
       "      <td>E.I. du Pont de Nemours &amp; Company</td>\n",
       "      <td>Merck &amp; Co., Inc.</td>\n",
       "      <td>Wal-Mart Stores, Inc.</td>\n",
       "    </tr>\n",
       "    <tr>\n",
       "      <th>220</th>\n",
       "      <td>Allied Chemical Corporation</td>\n",
       "      <td>Exxon Corporation † (formerly Standard Oil Co....</td>\n",
       "      <td>Owens-Illinois, Inc.</td>\n",
       "    </tr>\n",
       "    <tr>\n",
       "      <th>39</th>\n",
       "      <td>Exxon Mobil Corporation</td>\n",
       "      <td>Nike, Inc.</td>\n",
       "      <td>The Walt Disney Company</td>\n",
       "    </tr>\n",
       "  </tbody>\n",
       "</table>\n",
       "</div>"
      ],
      "text/plain": [
       "                                                     0  \\\n",
       "13                                  The Boeing Company   \n",
       "83                                           AT&T Inc.   \n",
       "140  3M Company † (formerly Minnesota Mining & Manu...   \n",
       "108                                     Citigroup Inc.   \n",
       "216                  E.I. du Pont de Nemours & Company   \n",
       "78                   E.I. du Pont de Nemours & Company   \n",
       "220                        Allied Chemical Corporation   \n",
       "39                             Exxon Mobil Corporation   \n",
       "\n",
       "                                                     1  \\\n",
       "13         International Business Machines Corporation   \n",
       "83                             Hewlett-Packard Company   \n",
       "140                              Eastman Kodak Company   \n",
       "108                                  Johnson & Johnson   \n",
       "216                        International Paper Company   \n",
       "78                                   Merck & Co., Inc.   \n",
       "220  Exxon Corporation † (formerly Standard Oil Co....   \n",
       "39                                          Nike, Inc.   \n",
       "\n",
       "                                   2  \n",
       "13     The Travelers Companies, Inc.  \n",
       "83      The Procter & Gamble Company  \n",
       "140                Johnson & Johnson  \n",
       "108            Wal-Mart Stores, Inc.  \n",
       "216  United States Steel Corporation  \n",
       "78             Wal-Mart Stores, Inc.  \n",
       "220             Owens-Illinois, Inc.  \n",
       "39           The Walt Disney Company  "
      ]
     },
     "metadata": {},
     "output_type": "display_data"
    }
   ],
   "source": [
    "# combine all dataframes\n",
    "djia_hist_comps_30_only = djia_hist_comps[1].iloc[:10, :]\n",
    "for df in djia_hist_comps[2:25]:\n",
    "    djia_hist_comps_30_only = pd.concat(\n",
    "        [djia_hist_comps_30_only, df.iloc[:10, :]],\n",
    "        axis='index',\n",
    "        copy=False,\n",
    "        ignore_index=True\n",
    "    )\n",
    "display(djia_hist_comps_30_only.sample(8))"
   ]
  },
  {
   "cell_type": "code",
   "execution_count": 4,
   "metadata": {},
   "outputs": [],
   "source": [
    "# keeps only company name (removes arrows, subscripts, and extraneous info)\n",
    "def remove_name_clutter(company_name):\n",
    "    return re.sub(r\"(?:\\([^\\(\\)]*\\)|\\[[^\\[\\]]*\\])|[^a-zA-Z0-9\\s&]\", '', company_name)"
   ]
  },
  {
   "cell_type": "code",
   "execution_count": 5,
   "metadata": {},
   "outputs": [],
   "source": [
    "# convert to list of company names\n",
    "djia_hist_comps_30_only = djia_hist_comps_30_only.to_numpy().flatten().tolist()"
   ]
  },
  {
   "cell_type": "code",
   "execution_count": 6,
   "metadata": {},
   "outputs": [],
   "source": [
    "# get only pure company names\n",
    "djia_hist_comps_30_only = [remove_name_clutter(name).strip() for name in djia_hist_comps_30_only]"
   ]
  },
  {
   "cell_type": "code",
   "execution_count": 7,
   "metadata": {},
   "outputs": [],
   "source": [
    "# get distinct company names\n",
    "djia_hist_comps_30_only = set(djia_hist_comps_30_only)"
   ]
  },
  {
   "cell_type": "code",
   "execution_count": 8,
   "metadata": {},
   "outputs": [],
   "source": [
    "# manual removal of explicit duplicates\n",
    "duplicates = [\n",
    "    'UnitedHealth Group Incorporated'\n",
    "]\n",
    "for d in duplicates:\n",
    "    djia_hist_comps_30_only.remove(d)"
   ]
  },
  {
   "cell_type": "code",
   "execution_count": 9,
   "metadata": {},
   "outputs": [
    {
     "data": {
      "text/plain": [
       "['3M Company',\n",
       " 'AT&T Corporation',\n",
       " 'AT&T Inc',\n",
       " 'Alcoa Inc',\n",
       " 'Allied Chemical Corporation',\n",
       " 'AlliedSignal Incorporated',\n",
       " 'Altria Group Incorporated',\n",
       " 'Aluminum Company of America']"
      ]
     },
     "execution_count": 9,
     "metadata": {},
     "output_type": "execute_result"
    }
   ],
   "source": [
    "# convert to list\n",
    "djia_hist_comps_30_only = sorted(list(djia_hist_comps_30_only))\n",
    "djia_hist_comps_30_only[:8]"
   ]
  },
  {
   "cell_type": "markdown",
   "metadata": {},
   "source": [
    "There are a few companies which are probably indistinguishably duplicates (like AT&T Corporation and AT&T Inc) but because of rebranding or mergers, the companies might be listed differently. I'll need to look into this more."
   ]
  },
  {
   "cell_type": "markdown",
   "metadata": {},
   "source": [
    "### Get company tickers"
   ]
  },
  {
   "cell_type": "markdown",
   "metadata": {},
   "source": [
    "I can probably automate some of this, but I expect that I'll have to go through quite a few names in the list manually to find the tickers."
   ]
  },
  {
   "cell_type": "markdown",
   "metadata": {},
   "source": [
    "Nevermind. I've been doing some research on trying to automate this and I'm not having a lot of luck. I'll probably just manually go through the list. It'll probably take me a bit but it's all I have to go on right now, and I'll probably just force myself to find a better solution down the line for when I need to pull more companies."
   ]
  },
  {
   "cell_type": "code",
   "execution_count": 10,
   "metadata": {},
   "outputs": [
    {
     "data": {
      "text/plain": [
       "86"
      ]
     },
     "execution_count": 10,
     "metadata": {},
     "output_type": "execute_result"
    }
   ],
   "source": [
    "len(djia_hist_comps_30_only)"
   ]
  },
  {
   "cell_type": "code",
   "execution_count": 11,
   "metadata": {},
   "outputs": [
    {
     "data": {
      "text/plain": [
       "array(['3M Company', 'AT&T Corporation', 'AT&T Inc', 'Alcoa Inc',\n",
       "       'Allied Chemical Corporation', 'AlliedSignal Incorporated',\n",
       "       'Altria Group Incorporated', 'Aluminum Company of America',\n",
       "       'American Can Company', 'American Express Company',\n",
       "       'American International Group Inc',\n",
       "       'American Telephone and Telegraph Company',\n",
       "       'American Tobacco Company', 'Amgen Inc',\n",
       "       'Anaconda Copper Mining Company', 'Apple Inc',\n",
       "       'Bank of America Corporation', 'Bethlehem Steel Corporation',\n",
       "       'Caterpillar Inc', 'Chevron Corporation', 'Chrysler Corporation',\n",
       "       'Cisco Systems Inc', 'Citigroup Inc', 'Dow Inc', 'DowDuPont Inc',\n",
       "       'EI du Pont de Nemours & Company', 'Eastman Kodak Company',\n",
       "       'Esmark Corporation', 'Exxon Corporation',\n",
       "       'Exxon Mobil Corporation', 'F W Woolworth Company',\n",
       "       'General Electric Company', 'General Foods Corporation',\n",
       "       'General Motors Corporation', 'Goodyear Tire and Rubber Company',\n",
       "       'HewlettPackard Company', 'Honeywell International',\n",
       "       'Honeywell International Inc', 'Inco Limited', 'Intel Corporation',\n",
       "       'International Business Machines Corporation',\n",
       "       'International Harvester Company',\n",
       "       'International Nickel Company Ltd', 'International Paper Company',\n",
       "       'JP Morgan & Company'], dtype='<U43')"
      ]
     },
     "execution_count": 11,
     "metadata": {},
     "output_type": "execute_result"
    }
   ],
   "source": [
    "np.array(djia_hist_comps_30_only[:45])"
   ]
  },
  {
   "cell_type": "code",
   "execution_count": 12,
   "metadata": {},
   "outputs": [],
   "source": [
    "djia_tickers = [\n",
    "    ('3M Company', 'MMM'),\n",
    "    ('AT&T Inc', 'T'),\n",
    "    ('Alcoa Inc', 'AA'),\n",
    "    ('Honeywell International', 'HON'),\n",
    "    ('Altria Group Inc', 'MO'),\n",
    "    ('American Express Company', 'AXP'),\n",
    "    ('American International Group Inc', 'AIG'),\n",
    "    ('Amgen Inc', 'AMGN'),\n",
    "    ('Apple Inc', 'AAPL'),\n",
    "    ('Bank of America Corporation', 'BAC'),\n",
    "    ('Caterpillar Inc', 'CAT'),\n",
    "    ('Chevron Corporation', 'CVX'),\n",
    "    ('Cisco Systems Inc', 'CSCO'),\n",
    "    ('Citigroup Inc', 'C'),\n",
    "    ('Dow Inc', 'DOW'),\n",
    "    ('DuPont de Nemours Inc', 'DD'),\n",
    "    ('Eastman Kodak Company', 'KODK'),\n",
    "    ('Exxon Mobil Corporation', 'XOM'),\n",
    "    (),\n",
    "    (),\n",
    "    (),\n",
    "    (),\n",
    "    (),\n",
    "    (),\n",
    "    (),\n",
    "    (),\n",
    "    (),\n",
    "\n",
    "]"
   ]
  },
  {
   "cell_type": "markdown",
   "metadata": {},
   "source": [
    "Noted Changes:\n",
    "- No separate tickers between 'AT&T Corporation' and 'AT&T Inc'. Several tickers for the company appear, but they look like separate divisions / asset classes, rather than the company's stock before / after the merge or rename or whatever.\n",
    "- 'Allied Chemical Corporation' changed its name to 'AlliedSignal Incorporated', which then merged with and became 'Honeywell International'.\n",
    "- 'Aluminum Company of America' renamed to 'Alcoa Inc'.\n",
    "- 'American Can Company' merged with financial conglomerate 'Primarica Inc'.\n",
    "- 'American Telephone and Telegraph Company' changed its name to 'AT&T Corporation' (no surprise there).\n",
    "- 'American Tobacco Company' was restructured into a holding company called 'American Brands Inc'.\n",
    "- 'Anaconda Copper Mining Company' was purchased by ARCO and then BP.\n",
    "- 'Bethlehem Steel Corporation' declared bankruptcy in 2001. This is exactly the kind of company I would want to include in the bot, but alas, I'm not easily finding stock info on them.\n",
    "- 'Chrysler Corporation' bankrupted and was acquired by Fiat, the US, and Canada (not sure what that means - I'm assuming the stock price reflected the bankruptcy).\n",
    "- 'DowDuPont Inc' spun off (separated into?) DuPont and Dow Inc.\n",
    "- 'EI du Pont de Nemours & Company' is assumedly now 'DuPont de Nemours Inc', but how it mingled with Dow, DowDuPont, etc. is beyond me right now.\n",
    "- 'Esmark Corporation' is interwoven with 'JBS USA', but the two companies are too distinct to keep them properly on this list.\n",
    "-  There isn't even an article for 'F W Woolworth Company', much less a ticker.\n"
   ]
  },
  {
   "cell_type": "markdown",
   "metadata": {},
   "source": [
    "A lot of the companies have merged, changed tickers, changed names, gone bankrupt, changed exchanges, etc. Which affects how easily I can access their historical data.\n",
    "\n",
    "I've done a little research and it looks like I can probably find some data via Library of Congress (though I need to locate a public or academic library that has access to the financial records database). There's also probably newspaper databases, though I don't want to comb through those now (or at all).\n",
    "\n",
    "I expect that I will need to account for these variables at some point, but for right now, I'm going to stick with the stocks that are easily available. It's not great for the survivorship bias (which was the whole point) but it'll be better than ignoring it entirely. Besides, this is more of an exercise in exploring how a neural network might be able to make sense of the vast interconnectedness of the stock market, rather than getting a useable stock bot immediately."
   ]
  },
  {
   "cell_type": "code",
   "execution_count": 13,
   "metadata": {},
   "outputs": [
    {
     "data": {
      "text/plain": [
       "array(['JPMorgan Chase & Co', 'JohnsManville Corporation',\n",
       "       'Johnson & Johnson', 'Kraft Foods Inc', 'McDonalds Corporation',\n",
       "       'Merck & Co Inc', 'Microsoft Corporation',\n",
       "       'Minnesota Mining & Manufacturing Company',\n",
       "       'Navistar International Corporation', 'Nike Inc',\n",
       "       'OwensIllinois Inc', 'Pfizer Inc', 'Philip Morris Companies Inc',\n",
       "       'Raytheon Technologies Corporation', 'SBC Communications Inc',\n",
       "       'Salesforce Inc', 'Sears Roebuck & Company',\n",
       "       'Standard Oil Co of California', 'Standard Oil Co of New Jersey',\n",
       "       'Swift & Company', 'Texaco Incorporated', 'The Boeing Company',\n",
       "       'The CocaCola Company', 'The Goldman Sachs Group Inc',\n",
       "       'The Home Depot Inc', 'The Procter & Gamble Company',\n",
       "       'The Travelers Companies Inc', 'The Walt Disney Company',\n",
       "       'Travelers Inc', 'USX Corporation', 'Union Carbide Corporation',\n",
       "       'United Aircraft Corporation', 'United States Steel Corporation',\n",
       "       'United Technologies Corporation', 'UnitedHealth Group Inc',\n",
       "       'Verizon Communications Inc', 'Visa Inc', 'WalMart Stores Inc',\n",
       "       'Walgreens Boots Alliance Inc', 'Walmart Inc',\n",
       "       'Westinghouse Electric Corporation'], dtype='<U40')"
      ]
     },
     "execution_count": 13,
     "metadata": {},
     "output_type": "execute_result"
    }
   ],
   "source": [
    "np.array(djia_hist_comps_30_only[45:])"
   ]
  }
 ],
 "metadata": {
  "kernelspec": {
   "display_name": "venv",
   "language": "python",
   "name": "python3"
  },
  "language_info": {
   "codemirror_mode": {
    "name": "ipython",
    "version": 3
   },
   "file_extension": ".py",
   "mimetype": "text/x-python",
   "name": "python",
   "nbconvert_exporter": "python",
   "pygments_lexer": "ipython3",
   "version": "3.10.11"
  },
  "orig_nbformat": 4,
  "vscode": {
   "interpreter": {
    "hash": "27771ea68735cac1916c104ed3d69e2cb0eb000f6c9d574c6a08d3bbf1e9acce"
   }
  }
 },
 "nbformat": 4,
 "nbformat_minor": 2
}
